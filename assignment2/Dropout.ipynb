{
 "cells": [
  {
   "cell_type": "markdown",
   "metadata": {
    "tags": [
     "pdf-title"
    ]
   },
   "source": [
    "# Dropout\n",
    "Dropout [1] is a technique for regularizing neural networks by randomly setting some output activations to zero during the forward pass. In this exercise you will implement a dropout layer and modify your fully-connected network to optionally use dropout.\n",
    "\n",
    "[1] [Geoffrey E. Hinton et al, \"Improving neural networks by preventing co-adaptation of feature detectors\", arXiv 2012](https://arxiv.org/abs/1207.0580)"
   ]
  },
  {
   "cell_type": "code",
   "execution_count": 1,
   "metadata": {},
   "outputs": [
    {
     "name": "stdout",
     "output_type": "stream",
     "text": "run the following from the comp451 directory and try again:\npython setup.py build_ext --inplace\nYou may also need to restart your iPython kernel\n"
    }
   ],
   "source": [
    "# As usual, a bit of setup\n",
    "from __future__ import print_function\n",
    "import time\n",
    "import numpy as np\n",
    "import matplotlib.pyplot as plt\n",
    "from comp451.classifiers.fc_net import *\n",
    "from comp451.data_utils import get_CIFAR10_data\n",
    "from comp451.gradient_check import eval_numerical_gradient, eval_numerical_gradient_array\n",
    "from comp451.solver import Solver\n",
    "\n",
    "%matplotlib inline\n",
    "plt.rcParams['figure.figsize'] = (10.0, 8.0) # set default size of plots\n",
    "plt.rcParams['image.interpolation'] = 'nearest'\n",
    "plt.rcParams['image.cmap'] = 'gray'\n",
    "\n",
    "# for auto-reloading external modules\n",
    "# see http://stackoverflow.com/questions/1907993/autoreload-of-modules-in-ipython\n",
    "%load_ext autoreload\n",
    "%autoreload 2\n",
    "\n",
    "def rel_error(x, y):\n",
    "  \"\"\" returns relative error \"\"\"\n",
    "  return np.max(np.abs(x - y) / (np.maximum(1e-8, np.abs(x) + np.abs(y))))"
   ]
  },
  {
   "cell_type": "code",
   "execution_count": 2,
   "metadata": {},
   "outputs": [
    {
     "name": "stdout",
     "output_type": "stream",
     "text": "X_train:  (49000, 3, 32, 32)\ny_train:  (49000,)\nX_val:  (1000, 3, 32, 32)\ny_val:  (1000,)\nX_test:  (1000, 3, 32, 32)\ny_test:  (1000,)\n"
    }
   ],
   "source": [
    "# Load the (preprocessed) CIFAR10 data.\n",
    "\n",
    "data = get_CIFAR10_data()\n",
    "for k, v in data.items():\n",
    "  print('%s: ' % k, v.shape)"
   ]
  },
  {
   "cell_type": "markdown",
   "metadata": {},
   "source": [
    "# Dropout forward pass\n",
    "In the file `comp451/layers.py`, implement the forward pass for dropout. Since dropout behaves differently during training and testing, make sure to implement the operation for both modes.\n",
    "\n",
    "Once you have done so, run the cell below to test your implementation."
   ]
  },
  {
   "cell_type": "code",
   "execution_count": 3,
   "metadata": {},
   "outputs": [
    {
     "name": "stdout",
     "output_type": "stream",
     "text": "Running tests with p =  0.25\nMean of input:  9.999077326314113\nMean of train-time output:  9.972885283063809\nMean of test-time output:  9.999077326314113\nFraction of train-time output set to zero:  0.75062\nFraction of test-time output set to zero:  0.0\n\nRunning tests with p =  0.4\nMean of input:  9.999077326314113\nMean of train-time output:  10.027599482024417\nMean of test-time output:  9.999077326314113\nFraction of train-time output set to zero:  0.59872\nFraction of test-time output set to zero:  0.0\n\nRunning tests with p =  0.7\nMean of input:  9.999077326314113\nMean of train-time output:  10.020484434032058\nMean of test-time output:  9.999077326314113\nFraction of train-time output set to zero:  0.298524\nFraction of test-time output set to zero:  0.0\n\n"
    }
   ],
   "source": [
    "np.random.seed(451)\n",
    "x = np.random.randn(500, 500) + 10\n",
    "\n",
    "for p in [0.25, 0.4, 0.7]:\n",
    "  out, _ = dropout_forward(x, {'mode': 'train', 'p': p})\n",
    "  out_test, _ = dropout_forward(x, {'mode': 'test', 'p': p})\n",
    "\n",
    "  print('Running tests with p = ', p)\n",
    "  print('Mean of input: ', x.mean())\n",
    "  print('Mean of train-time output: ', out.mean())\n",
    "  print('Mean of test-time output: ', out_test.mean())\n",
    "  print('Fraction of train-time output set to zero: ', (out == 0).mean())\n",
    "  print('Fraction of test-time output set to zero: ', (out_test == 0).mean())\n",
    "  print()"
   ]
  },
  {
   "cell_type": "markdown",
   "metadata": {},
   "source": [
    "# Dropout backward pass\n",
    "In the file `comp451/layers.py`, implement the backward pass for dropout. After doing so, run the following cell to numerically gradient-check your implementation."
   ]
  },
  {
   "cell_type": "code",
   "execution_count": 4,
   "metadata": {},
   "outputs": [
    {
     "name": "stdout",
     "output_type": "stream",
     "text": "dx relative error:  5.445608656734099e-11\n"
    }
   ],
   "source": [
    "np.random.seed(451)\n",
    "x = np.random.randn(10, 10) + 10\n",
    "dout = np.random.randn(*x.shape)\n",
    "\n",
    "dropout_param = {'mode': 'train', 'p': 0.2, 'seed': 123}\n",
    "out, cache = dropout_forward(x, dropout_param)\n",
    "dx = dropout_backward(dout, cache)\n",
    "dx_num = eval_numerical_gradient_array(lambda xx: dropout_forward(xx, dropout_param)[0], x, dout)\n",
    "\n",
    "# Error should be around e-10 or less\n",
    "print('dx relative error: ', rel_error(dx, dx_num))"
   ]
  },
  {
   "cell_type": "markdown",
   "metadata": {
    "tags": [
     "pdf-inline"
    ]
   },
   "source": [
    "## Inline Question 1:\n",
    "What happens if we do not divide the values being passed through inverse dropout by `p` in the dropout layer? Why does that happen?\n",
    "\n",
    "## Answer:\n",
    "[FILL THIS IN]\n"
   ]
  },
  {
   "cell_type": "markdown",
   "metadata": {},
   "source": [
    "# Fully-connected nets with Dropout\n",
    "In the file `comp451/classifiers/fc_net.py`, modify your `FullyConnectedNet` implementation to use dropout. Specifically, \n",
    "if the constructor of the network receives a value that is not 1 for the `dropout` parameter, then the net should add a \n",
    "dropout layer immediately after every Leaky ReLU nonlinearity. After doing so, run the following to numerically gradient-check \n",
    "your implementation."
   ]
  },
  {
   "cell_type": "code",
   "execution_count": 5,
   "metadata": {},
   "outputs": [
    {
     "name": "stdout",
     "output_type": "stream",
     "text": "Running check with dropout =  1\nInitial loss:  2.3060478762129883\nW1 relative error: 3.94e-06\nW2 relative error: 1.54e-03\nW3 relative error: 2.44e-06\nb1 relative error: 6.28e-07\nb2 relative error: 9.05e-07\nb3 relative error: 8.65e-11\n\nRunning check with dropout =  0.75\nInitial loss:  2.2917856149298332\nW1 relative error: 5.82e-04\nW2 relative error: 6.91e-04\nW3 relative error: 7.89e-04\nb1 relative error: 2.16e-06\nb2 relative error: 2.22e-07\nb3 relative error: 1.76e-10\n\nRunning check with dropout =  0.5\nInitial loss:  2.2872396589496775\nW1 relative error: 8.45e-06\nW2 relative error: 2.86e-04\nW3 relative error: 2.48e-06\nb1 relative error: 1.85e-07\nb2 relative error: 3.92e-08\nb3 relative error: 1.00e-10\n\n"
    }
   ],
   "source": [
    "np.random.seed(451)\n",
    "N, D, H1, H2, C = 2, 15, 20, 30, 10\n",
    "X = np.random.randn(N, D)\n",
    "y = np.random.randint(C, size=(N,))\n",
    "\n",
    "for dropout in [1, 0.75, 0.5]:\n",
    "  print('Running check with dropout = ', dropout)\n",
    "  model = FullyConnectedNet([H1, H2], input_dim=D, num_classes=C,\n",
    "                            weight_scale=5e-2, dtype=np.float64,\n",
    "                            dropout=dropout, seed=123)\n",
    "\n",
    "  loss, grads = model.loss(X, y)\n",
    "  print('Initial loss: ', loss)\n",
    "  \n",
    "  # Relative errors should be around e-6 or less; Note that it's fine\n",
    "  # if you have some errors be on the order of e-4.\n",
    "  for name in sorted(grads):\n",
    "    f = lambda _: model.loss(X, y)[0]\n",
    "    grad_num = eval_numerical_gradient(f, model.params[name], verbose=False, h=1e-5)\n",
    "    print('%s relative error: %.2e' % (name, rel_error(grad_num, grads[name])))\n",
    "  print()"
   ]
  },
  {
   "cell_type": "markdown",
   "metadata": {},
   "source": [
    "# Regularization experiment\n",
    "As an experiment, we will train a pair of two-layer networks on 500 training examples: one will use no dropout, and one will use a keep probability of 0.25. We will then visualize the training and validation accuracies of the two networks over time."
   ]
  },
  {
   "cell_type": "code",
   "execution_count": 9,
   "metadata": {},
   "outputs": [
    {
     "name": "stdout",
     "output_type": "stream",
     "text": "1\n(Iteration 1 / 125) loss: 9.039360\n(Epoch 0 / 25) train acc: 0.200000; val_acc: 0.179000\n(Epoch 1 / 25) train acc: 0.328000; val_acc: 0.212000\n(Epoch 2 / 25) train acc: 0.458000; val_acc: 0.249000\n(Epoch 3 / 25) train acc: 0.530000; val_acc: 0.235000\n(Epoch 4 / 25) train acc: 0.608000; val_acc: 0.272000\n(Epoch 5 / 25) train acc: 0.714000; val_acc: 0.294000\n(Epoch 6 / 25) train acc: 0.742000; val_acc: 0.305000\n(Epoch 7 / 25) train acc: 0.796000; val_acc: 0.268000\n(Epoch 8 / 25) train acc: 0.804000; val_acc: 0.277000\n(Epoch 9 / 25) train acc: 0.806000; val_acc: 0.277000\n(Epoch 10 / 25) train acc: 0.874000; val_acc: 0.292000\n(Epoch 11 / 25) train acc: 0.924000; val_acc: 0.290000\n(Epoch 12 / 25) train acc: 0.940000; val_acc: 0.283000\n(Epoch 13 / 25) train acc: 0.968000; val_acc: 0.287000\n(Epoch 14 / 25) train acc: 0.976000; val_acc: 0.299000\n(Epoch 15 / 25) train acc: 0.980000; val_acc: 0.300000\n(Epoch 16 / 25) train acc: 0.968000; val_acc: 0.299000\n(Epoch 17 / 25) train acc: 0.984000; val_acc: 0.279000\n(Epoch 18 / 25) train acc: 0.984000; val_acc: 0.297000\n(Epoch 19 / 25) train acc: 0.988000; val_acc: 0.297000\n(Epoch 20 / 25) train acc: 0.990000; val_acc: 0.305000\n(Iteration 101 / 125) loss: 0.018222\n(Epoch 21 / 25) train acc: 0.994000; val_acc: 0.308000\n(Epoch 22 / 25) train acc: 0.992000; val_acc: 0.317000\n(Epoch 23 / 25) train acc: 0.992000; val_acc: 0.308000\n(Epoch 24 / 25) train acc: 0.998000; val_acc: 0.304000\n(Epoch 25 / 25) train acc: 0.994000; val_acc: 0.295000\n\n0.25\n(Iteration 1 / 125) loss: 15.119055\n(Epoch 0 / 25) train acc: 0.204000; val_acc: 0.155000\n(Epoch 1 / 25) train acc: 0.378000; val_acc: 0.282000\n(Epoch 2 / 25) train acc: 0.454000; val_acc: 0.274000\n(Epoch 3 / 25) train acc: 0.506000; val_acc: 0.300000\n(Epoch 4 / 25) train acc: 0.540000; val_acc: 0.296000\n(Epoch 5 / 25) train acc: 0.628000; val_acc: 0.287000\n(Epoch 6 / 25) train acc: 0.652000; val_acc: 0.313000\n(Epoch 7 / 25) train acc: 0.682000; val_acc: 0.305000\n(Epoch 8 / 25) train acc: 0.694000; val_acc: 0.299000\n(Epoch 9 / 25) train acc: 0.746000; val_acc: 0.337000\n(Epoch 10 / 25) train acc: 0.736000; val_acc: 0.315000\n(Epoch 11 / 25) train acc: 0.792000; val_acc: 0.303000\n(Epoch 12 / 25) train acc: 0.810000; val_acc: 0.326000\n(Epoch 13 / 25) train acc: 0.790000; val_acc: 0.320000\n(Epoch 14 / 25) train acc: 0.826000; val_acc: 0.310000\n(Epoch 15 / 25) train acc: 0.830000; val_acc: 0.326000\n(Epoch 16 / 25) train acc: 0.854000; val_acc: 0.315000\n(Epoch 17 / 25) train acc: 0.864000; val_acc: 0.307000\n(Epoch 18 / 25) train acc: 0.888000; val_acc: 0.316000\n(Epoch 19 / 25) train acc: 0.860000; val_acc: 0.312000\n(Epoch 20 / 25) train acc: 0.874000; val_acc: 0.313000\n(Iteration 101 / 125) loss: 6.325842\n(Epoch 21 / 25) train acc: 0.924000; val_acc: 0.317000\n(Epoch 22 / 25) train acc: 0.896000; val_acc: 0.308000\n(Epoch 23 / 25) train acc: 0.914000; val_acc: 0.321000\n(Epoch 24 / 25) train acc: 0.912000; val_acc: 0.326000\n(Epoch 25 / 25) train acc: 0.912000; val_acc: 0.327000\n\n"
    }
   ],
   "source": [
    "# Train two identical nets, one with dropout and one without\n",
    "np.random.seed(451)\n",
    "num_train = 500\n",
    "small_data = {\n",
    "  'X_train': data['X_train'][:num_train],\n",
    "  'y_train': data['y_train'][:num_train],\n",
    "  'X_val': data['X_val'],\n",
    "  'y_val': data['y_val'],\n",
    "}\n",
    "\n",
    "solvers = {}\n",
    "dropout_choices = [1, 0.25]\n",
    "for dropout in dropout_choices:\n",
    "  model = FullyConnectedNet([500], dropout=dropout)\n",
    "  print(dropout)\n",
    "\n",
    "  solver = Solver(model, small_data,\n",
    "                  num_epochs=25, batch_size=100,\n",
    "                  update_rule='adam',\n",
    "                  optim_config={\n",
    "                    'learning_rate': 5e-4,\n",
    "                  },\n",
    "                  verbose=True, print_every=100)\n",
    "  solver.train()\n",
    "  solvers[dropout] = solver\n",
    "  print()"
   ]
  },
  {
   "cell_type": "code",
   "execution_count": 7,
   "metadata": {},
   "outputs": [],
   "source": [
    "# Plot train and validation accuracies of the two models\n",
    "\n",
    "train_accs = []\n",
    "val_accs = []\n",
    "for dropout in dropout_choices:\n",
    "  solver = solvers[dropout]\n",
    "  train_accs.append(solver.train_acc_history[-1])\n",
    "  val_accs.append(solver.val_acc_history[-1])\n",
    "\n",
    "plt.subplot(3, 1, 1)\n",
    "for dropout in dropout_choices:\n",
    "  plt.plot(solvers[dropout].train_acc_history, 'o', label='%.2f dropout' % dropout)\n",
    "plt.title('Train accuracy')\n",
    "plt.xlabel('Epoch')\n",
    "plt.ylabel('Accuracy')\n",
    "plt.legend(ncol=2, loc='lower right')\n",
    "  \n",
    "plt.subplot(3, 1, 2)\n",
    "for dropout in dropout_choices:\n",
    "  plt.plot(solvers[dropout].val_acc_history, 'o', label='%.2f dropout' % dropout)\n",
    "plt.title('Val accuracy')\n",
    "plt.xlabel('Epoch')\n",
    "plt.ylabel('Accuracy')\n",
    "plt.legend(ncol=2, loc='lower right')\n",
    "\n",
    "plt.gcf().set_size_inches(15, 15)\n",
    "plt.show()"
   ]
  },
  {
   "cell_type": "markdown",
   "metadata": {
    "pycharm": {
     "name": "#%% md\n"
    },
    "tags": [
     "pdf-inline"
    ]
   },
   "source": [
    "## Inline Question 2:\n",
    "Compare the validation and training accuracies with and without dropout -- what do your results suggest about dropout as a regularizer?\n",
    "\n",
    "## Answer:\n",
    "[FILL THIS IN]\n",
    "\n",
    "\n"
   ]
  }
 ],
 "metadata": {
  "@webio": {
   "lastCommId": "bfb81c433eaf4e2d84b2f50c52da3398",
   "lastKernelId": "e61312a8-f76e-4b00-99fd-42c81ec258a1"
  },
  "kernelspec": {
   "display_name": "Python3.7 (comp451)",
   "language": "python",
   "name": "comp451"
  },
  "language_info": {
   "codemirror_mode": {
    "name": "ipython",
    "version": 3
   },
   "file_extension": ".py",
   "mimetype": "text/x-python",
   "name": "python",
   "nbconvert_exporter": "python",
   "pygments_lexer": "ipython3",
   "version": "3.7.4"
  },
  "pycharm": {
   "stem_cell": {
    "cell_type": "raw",
    "metadata": {
     "collapsed": false
    },
    "source": []
   }
  }
 },
 "nbformat": 4,
 "nbformat_minor": 2
}